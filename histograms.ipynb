{
 "cells": [
  {
   "cell_type": "code",
   "execution_count": 1,
   "metadata": {},
   "outputs": [],
   "source": [
    "import os # For building fname\n",
    "import matplotlib.pyplot as plt # For plotting histograms\n",
    "import json # For json parsing\n",
    "\n",
    "def plot_hist(values, title):\n",
    "    \"\"\"Plot a histogram\n",
    "    Default of 10 bins\n",
    "    \n",
    "    Attributes:\n",
    "        values (list): What's being plotted\n",
    "        title (string): Title of the visualization\n",
    "    \"\"\"\n",
    "    \n",
    "    plt.figure()\n",
    "    plt.title(title)\n",
    "    plt.hist(values)\n",
    "    plt.show()\n",
    "    \n",
    "def grab_col_values(values, col_index):\n",
    "    \"\"\"Use a col index and list of values to grab entries at the given col_index\n",
    "    \n",
    "    Attributes:\n",
    "        values (list of lists): Values from Spotify data dictionary (all params)\n",
    "        col_index (int): The index of thte column we're looking at\n",
    "    Returns:\n",
    "        col_values_only (list): All of the values for a given col\n",
    "    \"\"\"\n",
    "    \n",
    "    col_values_only = []\n",
    "    for value in values:\n",
    "        col_values_only.append(value[col_index])\n",
    "    return col_values_only"
   ]
  },
  {
   "cell_type": "code",
   "execution_count": 4,
   "metadata": {},
   "outputs": [
    {
     "ename": "SyntaxError",
     "evalue": "invalid syntax (<ipython-input-4-13c607a9c2ab>, line 10)",
     "output_type": "error",
     "traceback": [
      "\u001b[0;36m  File \u001b[0;32m\"<ipython-input-4-13c607a9c2ab>\"\u001b[0;36m, line \u001b[0;32m10\u001b[0m\n\u001b[0;31m    all values = []\u001b[0m\n\u001b[0m        ^\u001b[0m\n\u001b[0;31mSyntaxError\u001b[0m\u001b[0;31m:\u001b[0m invalid syntax\n"
     ]
    }
   ],
   "source": [
    "# Load the data into a table\n",
    "#fname = os.path.join(\"data\", \"finished-now.json\") # Larger dataset\n",
    "\"\"\"fname = os.path.join(\"data\", \"smaller_aaaa.json\") # Only has 50 values\n",
    "\n",
    "with open(fname, \"r\") as read_file:\n",
    "    data = json.load(read_file)\"\"\"\n",
    "\n",
    "data = {\"SongNameID\": [4, \"ArtistID\", \"2021\", 100, True, 24.5, 64.9, 150, -72.7, 4, 60]}\n",
    "\n",
    "all_values = []\n",
    "# Grab all values in the dataset (which are organized by key)\n",
    "for row in data:\n",
    "    all_values.append(list(row.items()))"
   ]
  },
  {
   "cell_type": "code",
   "execution_count": null,
   "metadata": {},
   "outputs": [],
   "source": [
    "# Number of artists/featured artists\n",
    "\n",
    "artists_count_values = grab_col_values(all_values, 0)\n",
    "plot_hist(artists_count_values, \"Artists Count\")"
   ]
  },
  {
   "cell_type": "code",
   "execution_count": null,
   "metadata": {},
   "outputs": [],
   "source": [
    "# Artist ID\n",
    "\n",
    "artist_id_values = grab_col_values(all_values, 1)\n",
    "plot_hist(artist_id_values, \"Artist ID\")"
   ]
  },
  {
   "cell_type": "code",
   "execution_count": null,
   "metadata": {},
   "outputs": [],
   "source": [
    "# Release Year\n",
    "\n",
    "release_year_values = grab_col_values(all_values, 2)\n",
    "plot_hist(release_year_values, \"Release Year\")"
   ]
  },
  {
   "cell_type": "code",
   "execution_count": null,
   "metadata": {},
   "outputs": [],
   "source": [
    "# Song Length (Milliseconds)\n",
    "\n",
    "length_values = grab_col_values(all_values, 3)\n",
    "plot_hist(length_values, \"Song Length (Milliseconds))"
   ]
  },
  {
   "cell_type": "code",
   "execution_count": null,
   "metadata": {},
   "outputs": [],
   "source": [
    "# Explicit\n",
    "\n",
    "explicit_values = grab_col_values(all_values, 4)\n",
    "plot_hist(explicit_values, \"Explicit\")"
   ]
  },
  {
   "cell_type": "code",
   "execution_count": null,
   "metadata": {},
   "outputs": [],
   "source": [
    "# Dancibility\n",
    "\n",
    "dancibility_values = grab_col_values(all_values, 5)\n",
    "plot_hist(dancibility_values, \"Dancibility\")"
   ]
  },
  {
   "cell_type": "code",
   "execution_count": null,
   "metadata": {},
   "outputs": [],
   "source": [
    "# Energy\n",
    "\n",
    "energy_values = grab_col_values(all_values, 6)\n",
    "plot_hist(energy_values, \"Energy\")"
   ]
  },
  {
   "cell_type": "code",
   "execution_count": null,
   "metadata": {},
   "outputs": [],
   "source": [
    "# Tempo\n",
    "\n",
    "tempo_values = grab_col_values(all_values, 7)\n",
    "plot_hist(tempo_values, \"Tempo\")"
   ]
  },
  {
   "cell_type": "code",
   "execution_count": null,
   "metadata": {},
   "outputs": [],
   "source": [
    "# Loudness\n",
    "\n",
    "loudness_values = grab_col_values(all_values, 8)\n",
    "plot_hist(loudness_values, \"Loudness\")"
   ]
  },
  {
   "cell_type": "code",
   "execution_count": null,
   "metadata": {},
   "outputs": [],
   "source": [
    "# Time\n",
    "\n",
    "time_values = grab_col_values(all_values, 9)\n",
    "plot_hist(time_values, \"Time\")"
   ]
  },
  {
   "cell_type": "code",
   "execution_count": null,
   "metadata": {},
   "outputs": [],
   "source": [
    "# Popularity\n",
    "\n",
    "popularity_values = grab_col_values(all_values, 10)\n",
    "plot_hist(popularity_values, \"Popularity\")"
   ]
  }
 ],
 "metadata": {
  "kernelspec": {
   "display_name": "Python 3",
   "language": "python",
   "name": "python3"
  },
  "language_info": {
   "codemirror_mode": {
    "name": "ipython",
    "version": 3
   },
   "file_extension": ".py",
   "mimetype": "text/x-python",
   "name": "python",
   "nbconvert_exporter": "python",
   "pygments_lexer": "ipython3",
   "version": "3.8.5"
  }
 },
 "nbformat": 4,
 "nbformat_minor": 4
}
